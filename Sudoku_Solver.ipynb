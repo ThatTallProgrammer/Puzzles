{
 "cells": [
  {
   "cell_type": "code",
   "execution_count": 3,
   "metadata": {},
   "outputs": [],
   "source": [
    "import numpy as np"
   ]
  },
  {
   "cell_type": "code",
   "execution_count": 4,
   "metadata": {},
   "outputs": [],
   "source": [
    "board = [\n",
    "    [5,3,0,0,7,0,0,0,0],\n",
    "    [6,0,0,1,9,5,0,0,0],\n",
    "    [0,9,8,0,0,0,0,6,0],\n",
    "    [8,0,0,0,6,0,0,0,3],\n",
    "    [4,0,0,8,0,3,0,0,1],\n",
    "    [7,0,0,0,2,0,0,0,6],\n",
    "    [0,6,0,0,0,0,2,8,0],\n",
    "    [0,0,0,4,1,9,0,0,5],\n",
    "    [0,0,0,0,8,0,0,7,9]  \n",
    "]\n",
    "board = np.array(board)"
   ]
  },
  {
   "cell_type": "code",
   "execution_count": 5,
   "metadata": {},
   "outputs": [],
   "source": [
    "def print_board():\n",
    "    \n",
    "    square_len = len(board[0]) // 3 * 5\n",
    "    tab_len = (len(board) - 1) // 3 * 3\n",
    "    \n",
    "    print(\"{}{}\".format(\n",
    "            '-' * square_len, \n",
    "            '-' * tab_len\n",
    "        )\n",
    "    )\n",
    "    for i in range(len(board)):\n",
    "        if i > 0 and i % 3 == 0: print()\n",
    "        for j in range(len(board[i])):\n",
    "            if j > 0 and j % 3 == 0: print(\"\\t\", end=\"\")\n",
    "            print(\"{} \".format(board[i,j]), end=\"\")\n",
    "        print()\n",
    "    print(\"{}{}\".format(\n",
    "            '-' * square_len, \n",
    "            '-' * tab_len\n",
    "        )\n",
    "    )"
   ]
  },
  {
   "cell_type": "code",
   "execution_count": 6,
   "metadata": {},
   "outputs": [
    {
     "name": "stdout",
     "output_type": "stream",
     "text": [
      "---------------------\n",
      "5 3 0 \t0 7 0 \t0 0 0 \n",
      "6 0 0 \t1 9 5 \t0 0 0 \n",
      "0 9 8 \t0 0 0 \t0 6 0 \n",
      "\n",
      "8 0 0 \t0 6 0 \t0 0 3 \n",
      "4 0 0 \t8 0 3 \t0 0 1 \n",
      "7 0 0 \t0 2 0 \t0 0 6 \n",
      "\n",
      "0 6 0 \t0 0 0 \t2 8 0 \n",
      "0 0 0 \t4 1 9 \t0 0 5 \n",
      "0 0 0 \t0 8 0 \t0 7 9 \n",
      "---------------------\n"
     ]
    }
   ],
   "source": [
    "print_board()"
   ]
  },
  {
   "cell_type": "code",
   "execution_count": 10,
   "metadata": {},
   "outputs": [],
   "source": [
    "def possible(x: int, y: int, n: int)->bool:\n",
    "    global board\n",
    "    \n",
    "    sq_x = 3 * (x // 3)\n",
    "    sq_y = 3 * (y // 3)\n",
    "    \n",
    "    # if in square return false\n",
    "    if n in board[sq_y:sq_y + 3, sq_x:sq_x + 3]: return False\n",
    "    \n",
    "    # if in row return false\n",
    "    if n in board[y]: return False\n",
    "    \n",
    "    # if in column return false\n",
    "    if n in np.transpose(board)[x]: return False\n",
    "    \n",
    "    return True "
   ]
  },
  {
   "cell_type": "code",
   "execution_count": 11,
   "metadata": {},
   "outputs": [],
   "source": [
    "def solve():\n",
    "    global board\n",
    "    \n",
    "    for x in range(len(board[0])):\n",
    "        for y in range(len(board)):\n",
    "            if board[y,x] == 0:\n",
    "                for n in range(1, 10):\n",
    "                    if possible(x, y, n):\n",
    "                        board[y,x] = n\n",
    "                        solve()\n",
    "                        board[y,x] = 0\n",
    "                return\n",
    "    print_board()         "
   ]
  },
  {
   "cell_type": "code",
   "execution_count": 12,
   "metadata": {},
   "outputs": [
    {
     "name": "stdout",
     "output_type": "stream",
     "text": [
      "---------------------\n",
      "5 3 4 \t6 7 8 \t9 1 2 \n",
      "6 7 2 \t1 9 5 \t3 4 8 \n",
      "1 9 8 \t3 4 2 \t5 6 7 \n",
      "\n",
      "8 5 9 \t7 6 1 \t4 2 3 \n",
      "4 2 6 \t8 5 3 \t7 9 1 \n",
      "7 1 3 \t9 2 4 \t8 5 6 \n",
      "\n",
      "9 6 1 \t5 3 7 \t2 8 4 \n",
      "2 8 7 \t4 1 9 \t6 3 5 \n",
      "3 4 5 \t2 8 6 \t1 7 9 \n",
      "---------------------\n"
     ]
    }
   ],
   "source": [
    "solve()"
   ]
  },
  {
   "cell_type": "code",
   "execution_count": null,
   "metadata": {},
   "outputs": [],
   "source": []
  }
 ],
 "metadata": {
  "kernelspec": {
   "display_name": "Python 3",
   "language": "python",
   "name": "python3"
  },
  "language_info": {
   "codemirror_mode": {
    "name": "ipython",
    "version": 3
   },
   "file_extension": ".py",
   "mimetype": "text/x-python",
   "name": "python",
   "nbconvert_exporter": "python",
   "pygments_lexer": "ipython3",
   "version": "3.7.4"
  }
 },
 "nbformat": 4,
 "nbformat_minor": 2
}
